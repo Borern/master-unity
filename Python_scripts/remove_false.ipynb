{
 "cells": [
  {
   "cell_type": "code",
   "execution_count": 13,
   "metadata": {},
   "outputs": [],
   "source": [
    "import os\n",
    "\n",
    "lablePath = \"/Users/jorgen/Documents/UnityProjects/master-unity/Generated/BoundingBoxes/\"\n",
    "imagePath = \"/Users/jorgen/Library/Application Support/DefaultCompany/Master_Sau/ac77dd2b-8b5c-4d66-a0f0-f5b063f4fc16/RGB530b185f-2c77-479e-b32c-ca005dea46e5/\"\n",
    "destinationPath = \"/Users/jorgen/Documents/UnityProjects/master-unity/Generated/Labels/\"\n",
    "seed = 339662031\n",
    "batch = 5\n",
    "\n",
    "if os.path.isfile('/Users/jorgen/Documents/UnityProjects/master-unity/Generated/BoundingBoxes/unvalid.txt'):\n",
    "    with open('/Users/jorgen/Documents/UnityProjects/master-unity/Generated/BoundingBoxes/unvalid.txt') as f:\n",
    "        for line in f:\n",
    "            os.remove(imagePath + line.strip()+\".png\")\n",
    "            os.remove(lablePath + line.strip()+\".txt\")\n",
    "\n",
    "    os.remove('/Users/jorgen/Documents/UnityProjects/master-unity/Generated/BoundingBoxes/unvalid.txt')"
   ]
  },
  {
   "cell_type": "code",
   "execution_count": 14,
   "metadata": {},
   "outputs": [],
   "source": [
    "files = os.listdir(imagePath)\n",
    "\n",
    "files.sort()\n",
    "\n",
    "for i, file in enumerate(files):\n",
    "    new_name = \"rgb_\" + str(batch) + \"_\" + str(seed) + \"_\" + str(i+1) + os.path.splitext(file)[1]\n",
    "\n",
    "    old_path = os.path.join(imagePath, file)\n",
    "    new_path = os.path.join(imagePath, new_name)\n",
    "\n",
    "    os.rename(old_path, new_path)"
   ]
  },
  {
   "cell_type": "code",
   "execution_count": 15,
   "metadata": {},
   "outputs": [],
   "source": [
    "files = os.listdir(lablePath)\n",
    "\n",
    "files.sort()\n",
    "\n",
    "for i, file in enumerate(files):\n",
    "        new_name = \"rgb_\" + str(batch) + \"_\" + str(seed) + \"_\" + str(i+1) + os.path.splitext(file)[1]\n",
    "\n",
    "        old_path = os.path.join(lablePath, file)\n",
    "        new_path = os.path.join(destinationPath, new_name)\n",
    "\n",
    "        os.rename(old_path, new_path)"
   ]
  }
 ],
 "metadata": {
  "kernelspec": {
   "display_name": "Python 3.9.15 ('TDT17')",
   "language": "python",
   "name": "python3"
  },
  "language_info": {
   "codemirror_mode": {
    "name": "ipython",
    "version": 3
   },
   "file_extension": ".py",
   "mimetype": "text/x-python",
   "name": "python",
   "nbconvert_exporter": "python",
   "pygments_lexer": "ipython3",
   "version": "3.9.15"
  },
  "orig_nbformat": 4,
  "vscode": {
   "interpreter": {
    "hash": "bdc0dd24ea99cec185e83cd349206ed4dfc777f3f4709c5fb7a58f6263b5c2c0"
   }
  }
 },
 "nbformat": 4,
 "nbformat_minor": 2
}
