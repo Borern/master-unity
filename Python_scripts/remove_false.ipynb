{
 "cells": [
  {
   "cell_type": "code",
   "execution_count": 1,
   "metadata": {},
   "outputs": [],
   "source": [
    "import os\n",
    "\n",
    "with open('unvalid.txt') as f:\n",
    "    for line in f:\n",
    "        os.remove(line.strip()+\".png\")"
   ]
  }
 ],
 "metadata": {
  "kernelspec": {
   "display_name": "Python 3.9.15 ('TDT17')",
   "language": "python",
   "name": "python3"
  },
  "language_info": {
   "codemirror_mode": {
    "name": "ipython",
    "version": 3
   },
   "file_extension": ".py",
   "mimetype": "text/x-python",
   "name": "python",
   "nbconvert_exporter": "python",
   "pygments_lexer": "ipython3",
   "version": "3.9.15"
  },
  "orig_nbformat": 4,
  "vscode": {
   "interpreter": {
    "hash": "bdc0dd24ea99cec185e83cd349206ed4dfc777f3f4709c5fb7a58f6263b5c2c0"
   }
  }
 },
 "nbformat": 4,
 "nbformat_minor": 2
}
